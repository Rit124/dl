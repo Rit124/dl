{
 "cells": [
  {
   "cell_type": "code",
   "execution_count": 17,
   "id": "6f36c997-e4a0-4131-a3ec-8d0e1e29b6bc",
   "metadata": {},
   "outputs": [
    {
     "name": "stdout",
     "output_type": "stream",
     "text": [
      "Epoch 1/2\n",
      "\u001b[1m1875/1875\u001b[0m \u001b[32m━━━━━━━━━━━━━━━━━━━━\u001b[0m\u001b[37m\u001b[0m \u001b[1m28s\u001b[0m 14ms/step - accuracy: 0.8955 - loss: 0.3413\n",
      "Epoch 2/2\n",
      "\u001b[1m1875/1875\u001b[0m \u001b[32m━━━━━━━━━━━━━━━━━━━━\u001b[0m\u001b[37m\u001b[0m \u001b[1m43s\u001b[0m 15ms/step - accuracy: 0.9859 - loss: 0.0450\n",
      "\u001b[1m313/313\u001b[0m \u001b[32m━━━━━━━━━━━━━━━━━━━━\u001b[0m\u001b[37m\u001b[0m \u001b[1m2s\u001b[0m 7ms/step - accuracy: 0.9777 - loss: 0.0629\n",
      "MNIST test accuracy:0.9832000136375427\n",
      "Epoch 1/2\n",
      "\u001b[1m391/391\u001b[0m \u001b[32m━━━━━━━━━━━━━━━━━━━━\u001b[0m\u001b[37m\u001b[0m \u001b[1m29s\u001b[0m 71ms/step - accuracy: 0.6594 - loss: 0.5659\n",
      "Epoch 2/2\n",
      "\u001b[1m391/391\u001b[0m \u001b[32m━━━━━━━━━━━━━━━━━━━━\u001b[0m\u001b[37m\u001b[0m \u001b[1m41s\u001b[0m 70ms/step - accuracy: 0.9258 - loss: 0.1963\n",
      "\u001b[1m782/782\u001b[0m \u001b[32m━━━━━━━━━━━━━━━━━━━━\u001b[0m\u001b[37m\u001b[0m \u001b[1m12s\u001b[0m 15ms/step - accuracy: 0.8711 - loss: 0.3048\n",
      "MNIST test accuracy:0.9832000136375427\n"
     ]
    }
   ],
   "source": [
    "import tensorflow as tf\n",
    "from tensorflow.keras.datasets import mnist,imdb\n",
    "from tensorflow.keras import layers, models\n",
    "from tensorflow.keras.preprocessing import sequence\n",
    "from tensorflow.keras.utils import to_categorical\n",
    "\n",
    "\n",
    "(train_images, train_labels),(test_images, test_labels)= mnist.load_data()\n",
    "train_images=train_images.reshape(60000,28,28,1)/255.0\n",
    "test_images=test_images.reshape(10000,28,28,1)/255.0\n",
    "train_labels=to_categorical(train_labels)\n",
    "test_labels=to_categorical(test_labels)\n",
    "\n",
    "model=models.Sequential([\n",
    "    layers.Conv2D(32,(3,3), activation='relu', input_shape=(28,28,1)),\n",
    "    layers.MaxPooling2D((2,2)),\n",
    "    layers.Conv2D(64,(3,3), activation='relu'),\n",
    "    layers.MaxPooling2D((2,2)),\n",
    "    layers.Conv2D(64,(3,3), activation='relu'),\n",
    "    layers.Flatten(),\n",
    "    layers.Dense(64, activation='relu'),\n",
    "    layers.Dense(10, activation='softmax')\n",
    "])\n",
    "model.compile(optimizer='adam', loss='categorical_crossentropy', metrics=['accuracy'])\n",
    "model.fit(train_images, train_labels, epochs=2, batch_size=32)\n",
    "test_loss, test_acc=model.evaluate(test_images, test_labels)\n",
    "print(f'MNIST test accuracy:{test_acc}')\n",
    "max_features, max_len =10000,500\n",
    "(train_data, train_labels),(test_data, test_labels)= imdb.load_data(num_words=max_features)\n",
    "train_data=sequence.pad_sequences(train_data, maxlen=max_len)\n",
    "test_data=sequence.pad_sequences(test_data, maxlen=max_len)\n",
    "\n",
    "model=models.Sequential([\n",
    "    layers.Embedding(max_features,128, input_length=max_len),\n",
    "    layers.Conv1D(32,7,activation='relu'),\n",
    "    layers.MaxPooling1D(5),\n",
    "    layers.Conv1D(32,7,activation='relu'),\n",
    "    layers.GlobalMaxPooling1D(),\n",
    "    layers.Dense(1, activation='sigmoid')\n",
    "])\n",
    "model.compile(optimizer='adam', loss='binary_crossentropy', metrics=['accuracy'])\n",
    "model.fit(train_data, train_labels, epochs=2, batch_size=64)\n",
    "test_loss,test_accuracy=model.evaluate(test_data, test_labels)\n",
    "print(f'MNIST test accuracy:{test_acc}')\n",
    "\n",
    "    \n",
    "    "
   ]
  },
  {
   "cell_type": "code",
   "execution_count": null,
   "id": "8d042277-c661-4dee-88ca-ab79b2343529",
   "metadata": {},
   "outputs": [],
   "source": []
  }
 ],
 "metadata": {
  "kernelspec": {
   "display_name": "Python [conda env:base] *",
   "language": "python",
   "name": "conda-base-py"
  },
  "language_info": {
   "codemirror_mode": {
    "name": "ipython",
    "version": 3
   },
   "file_extension": ".py",
   "mimetype": "text/x-python",
   "name": "python",
   "nbconvert_exporter": "python",
   "pygments_lexer": "ipython3",
   "version": "3.12.7"
  }
 },
 "nbformat": 4,
 "nbformat_minor": 5
}
