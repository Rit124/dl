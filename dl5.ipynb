{
 "cells": [
  {
   "cell_type": "code",
   "execution_count": 13,
   "id": "a0e94d44-02b3-4198-bdc0-f437eb817d04",
   "metadata": {},
   "outputs": [
    {
     "name": "stdout",
     "output_type": "stream",
     "text": [
      "Reloading Tuner from my_dir\\multi_io_tuning\\tuner0.json\n",
      "Epoch 1/5\n",
      "\u001b[1m25/25\u001b[0m \u001b[32m━━━━━━━━━━━━━━━━━━━━\u001b[0m\u001b[37m\u001b[0m \u001b[1m6s\u001b[0m 153ms/step - loss: 2.5798 - output1_loss: 0.2317 - output1_mae: 0.3873 - output2_accuracy: 0.0883 - output2_loss: 2.3480\n",
      "Epoch 2/5\n",
      "\u001b[1m25/25\u001b[0m \u001b[32m━━━━━━━━━━━━━━━━━━━━\u001b[0m\u001b[37m\u001b[0m \u001b[1m4s\u001b[0m 153ms/step - loss: 2.3033 - output1_loss: 0.0795 - output1_mae: 0.2433 - output2_accuracy: 0.1869 - output2_loss: 2.2237\n",
      "Epoch 3/5\n",
      "\u001b[1m25/25\u001b[0m \u001b[32m━━━━━━━━━━━━━━━━━━━━\u001b[0m\u001b[37m\u001b[0m \u001b[1m5s\u001b[0m 154ms/step - loss: 1.9299 - output1_loss: 0.0594 - output1_mae: 0.2017 - output2_accuracy: 0.5001 - output2_loss: 1.8704\n",
      "Epoch 4/5\n",
      "\u001b[1m25/25\u001b[0m \u001b[32m━━━━━━━━━━━━━━━━━━━━\u001b[0m\u001b[37m\u001b[0m \u001b[1m4s\u001b[0m 155ms/step - loss: 1.0387 - output1_loss: 0.0702 - output1_mae: 0.2033 - output2_accuracy: 0.9162 - output2_loss: 0.9685\n",
      "Epoch 5/5\n",
      "\u001b[1m25/25\u001b[0m \u001b[32m━━━━━━━━━━━━━━━━━━━━\u001b[0m\u001b[37m\u001b[0m \u001b[1m5s\u001b[0m 153ms/step - loss: 0.2842 - output1_loss: 0.1148 - output1_mae: 0.2622 - output2_accuracy: 1.0000 - output2_loss: 0.1694\n"
     ]
    },
    {
     "data": {
      "text/plain": [
       "<keras.src.callbacks.history.History at 0x20dd3c153a0>"
      ]
     },
     "execution_count": 13,
     "metadata": {},
     "output_type": "execute_result"
    }
   ],
   "source": [
    "import numpy as np\n",
    "import tensorflow as tf\n",
    "import keras_tuner as kt\n",
    "from tensorflow.keras.models import Model\n",
    "from tensorflow.keras.layers import Input, Dense, concatenate, Flatten, Conv2D\n",
    "def build_model(hp):\n",
    "    units1=hp.Int('units1',32,128, step=32)\n",
    "    units2=hp.Int('units2',32,128, step=32)\n",
    "    lr=hp.Choice('lr',[1e-2,1e-3,1e-4])\n",
    "\n",
    "    in1=Input(shape=(10,), name=\"input1\")\n",
    "    x1=Dense(units1, activation='relu')(in1)\n",
    "    x1=Dense(units2, activation='relu')(x1)\n",
    "\n",
    "    in2=Input(shape=(64,64,3), name=\"input2\")\n",
    "    x2=Conv2D(32,(3,3), activation='relu')(in2)\n",
    "    x2=Conv2D(64,(3,3), activation='relu')(x2)\n",
    "    x2=Flatten()(x2)\n",
    "\n",
    "    combined=concatenate([x1,x2])\n",
    "    out1=Dense(1, name=\"output1\")(combined)\n",
    "    out2=Dense(10, activation='softmax', name=\"output2\")(combined)\n",
    "    model=Model(inputs=[in1,in2], outputs=[out1, out2])\n",
    "    model.compile(optimizer=tf.keras.optimizers.Adam(lr),loss=['mse','categorical_crossentropy'], metrics=['mae','accuracy'])\n",
    "    return model\n",
    "tuner=kt.RandomSearch(build_model, objective='val_loss', max_trials=10, executions_per_trial=2, directory='my_dir', project_name='multi_io_tuning')\n",
    "x1,x2=np.random.rand(1000,10),np.random.rand(1000,64,64,3)\n",
    "y1,y2=np.random.rand(1000,1),tf.keras.utils.to_categorical(np.random.randint(0,10,(1000,1)),10)\n",
    "train, val= slice(800), slice(800,1000)\n",
    "tuner.search([x1[train],x2[train]],[y1[train],y2[train]], validation_data=([x1[val],x2[val]],[y1[val],y2[val]]), epochs=5, batch_size=32)\n",
    "best_model = tuner.get_best_models(1)[0]\n",
    "best_model.fit([x1[train], x2[train]], [y1[train], y2[train]],\n",
    "               epochs=5, batch_size=32)"
   ]
  },
  {
   "cell_type": "code",
   "execution_count": null,
   "id": "a07155ff-4c48-45ee-a192-7b25bc431061",
   "metadata": {},
   "outputs": [],
   "source": []
  }
 ],
 "metadata": {
  "kernelspec": {
   "display_name": "Python [conda env:base] *",
   "language": "python",
   "name": "conda-base-py"
  },
  "language_info": {
   "codemirror_mode": {
    "name": "ipython",
    "version": 3
   },
   "file_extension": ".py",
   "mimetype": "text/x-python",
   "name": "python",
   "nbconvert_exporter": "python",
   "pygments_lexer": "ipython3",
   "version": "3.12.7"
  }
 },
 "nbformat": 4,
 "nbformat_minor": 5
}
