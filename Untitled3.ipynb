import numpy as np
import tensorflow as tf
from tensorflow.keras.preprocessing.text import Tokenizer
from tensorflow.keras.preprocessing.sequence import pad_sequences
from tensorflow.keras.models import Sequential
from tensorflow.keras.layers import Embedding, LSTM, Dense
from tensorflow.keras.utils import to_categorical
import string

text = """In the beginning God created the heavens and the earth. Now the earth was 
formless and empty, darkness was over the surface of the deep, and the Spirit of God 
was hovering over the waters. And God said, “Let there be light,” and there was light."""
clean_text = lambda t: t.lower().translate(str.maketrans('', '', string.punctuation))
cleaned_text = clean_text(text)

tokenizer = Tokenizer()
tokenizer.fit_on_texts([cleaned_text])
total_words = len(tokenizer.word_index) + 1
sequences = [
    seq for line in cleaned_text.split('.') for i in range(1, len(tokenizer.texts_to_sequences([line])[0]))
    for seq in [tokenizer.texts_to_sequences([line])[0][:i + 1]]
]
max_len = max(map(len, sequences))
sequences = pad_sequences(sequences, maxlen=max_len, padding='pre')
X, y = sequences[:, :-1], to_categorical(sequences[:, -1], num_classes=total_words)

model = Sequential([
    Embedding(total_words, 100, input_length=max_len - 1),
    LSTM(150, return_sequences=True),
    LSTM(100),
    Dense(total_words, activation='softmax')
])
model.compile(loss='categorical_crossentropy', optimizer='adam', metrics=['accuracy'])
model.fit(X, y, epochs=100, verbose=1)

def generate_text(seed_text, next_words):
    for _ in range(next_words):
        token_list = pad_sequences(
            [tokenizer.texts_to_sequences([seed_text])[0]], maxlen=max_len - 1, padding='pre'
        )
        predicted = np.argmax(model.predict(token_list), axis=-1)
        seed_text += " " + [k for k, v in tokenizer.word_index.items() if v == predicted][0]
    return seed_text

print(generate_text("God said", 10))
